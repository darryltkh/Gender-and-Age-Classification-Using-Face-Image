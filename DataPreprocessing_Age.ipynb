{
 "cells": [
  {
   "cell_type": "code",
   "execution_count": 1,
   "id": "4894510f",
   "metadata": {},
   "outputs": [],
   "source": [
    "import numpy as np\n",
    "import pandas as pd\n",
    "import time\n",
    "\n",
    "import pathlib\n",
    "import PIL.Image as Image\n",
    "import matplotlib.pylab as plt\n",
    "\n",
    "import tensorflow as tf\n",
    "import tensorflow_hub as hub\n",
    "\n",
    "import datetime\n",
    "\n",
    "\n",
    "import os\n",
    "import shutil\n",
    "from keras.preprocessing.image import load_img"
   ]
  },
  {
   "cell_type": "code",
   "execution_count": 2,
   "id": "6cef03f6",
   "metadata": {},
   "outputs": [
    {
     "data": {
      "text/html": [
       "<div>\n",
       "<style scoped>\n",
       "    .dataframe tbody tr th:only-of-type {\n",
       "        vertical-align: middle;\n",
       "    }\n",
       "\n",
       "    .dataframe tbody tr th {\n",
       "        vertical-align: top;\n",
       "    }\n",
       "\n",
       "    .dataframe thead th {\n",
       "        text-align: right;\n",
       "    }\n",
       "</style>\n",
       "<table border=\"1\" class=\"dataframe\">\n",
       "  <thead>\n",
       "    <tr style=\"text-align: right;\">\n",
       "      <th></th>\n",
       "      <th>original_image</th>\n",
       "      <th>gender</th>\n",
       "      <th>age</th>\n",
       "    </tr>\n",
       "  </thead>\n",
       "  <tbody>\n",
       "    <tr>\n",
       "      <th>0</th>\n",
       "      <td>10399646885_67c7d20df9_o.jpg</td>\n",
       "      <td>f</td>\n",
       "      <td>(25, 32)</td>\n",
       "    </tr>\n",
       "    <tr>\n",
       "      <th>1</th>\n",
       "      <td>10424815813_e94629b1ec_o.jpg</td>\n",
       "      <td>m</td>\n",
       "      <td>(25, 32)</td>\n",
       "    </tr>\n",
       "    <tr>\n",
       "      <th>2</th>\n",
       "      <td>10437979845_5985be4b26_o.jpg</td>\n",
       "      <td>f</td>\n",
       "      <td>(25, 32)</td>\n",
       "    </tr>\n",
       "    <tr>\n",
       "      <th>3</th>\n",
       "      <td>10437979845_5985be4b26_o.jpg</td>\n",
       "      <td>m</td>\n",
       "      <td>(25, 32)</td>\n",
       "    </tr>\n",
       "    <tr>\n",
       "      <th>4</th>\n",
       "      <td>11816644924_075c3d8d59_o.jpg</td>\n",
       "      <td>m</td>\n",
       "      <td>(25, 32)</td>\n",
       "    </tr>\n",
       "    <tr>\n",
       "      <th>...</th>\n",
       "      <td>...</td>\n",
       "      <td>...</td>\n",
       "      <td>...</td>\n",
       "    </tr>\n",
       "    <tr>\n",
       "      <th>18546</th>\n",
       "      <td>10587826073_6663f5b654_o.jpg</td>\n",
       "      <td>f</td>\n",
       "      <td>(25, 32)</td>\n",
       "    </tr>\n",
       "    <tr>\n",
       "      <th>18547</th>\n",
       "      <td>10587571495_a61785cd06_o.jpg</td>\n",
       "      <td>m</td>\n",
       "      <td>(25, 32)</td>\n",
       "    </tr>\n",
       "    <tr>\n",
       "      <th>18548</th>\n",
       "      <td>10587571495_a61785cd06_o.jpg</td>\n",
       "      <td>f</td>\n",
       "      <td>(25, 32)</td>\n",
       "    </tr>\n",
       "    <tr>\n",
       "      <th>18549</th>\n",
       "      <td>9426695459_9e8b347604_o.jpg</td>\n",
       "      <td>f</td>\n",
       "      <td>(25, 32)</td>\n",
       "    </tr>\n",
       "    <tr>\n",
       "      <th>18550</th>\n",
       "      <td>9429464468_1bfc39ecfb_o.jpg</td>\n",
       "      <td>f</td>\n",
       "      <td>(25, 32)</td>\n",
       "    </tr>\n",
       "  </tbody>\n",
       "</table>\n",
       "<p>18551 rows × 3 columns</p>\n",
       "</div>"
      ],
      "text/plain": [
       "                     original_image gender       age\n",
       "0      10399646885_67c7d20df9_o.jpg      f  (25, 32)\n",
       "1      10424815813_e94629b1ec_o.jpg      m  (25, 32)\n",
       "2      10437979845_5985be4b26_o.jpg      f  (25, 32)\n",
       "3      10437979845_5985be4b26_o.jpg      m  (25, 32)\n",
       "4      11816644924_075c3d8d59_o.jpg      m  (25, 32)\n",
       "...                             ...    ...       ...\n",
       "18546  10587826073_6663f5b654_o.jpg      f  (25, 32)\n",
       "18547  10587571495_a61785cd06_o.jpg      m  (25, 32)\n",
       "18548  10587571495_a61785cd06_o.jpg      f  (25, 32)\n",
       "18549   9426695459_9e8b347604_o.jpg      f  (25, 32)\n",
       "18550   9429464468_1bfc39ecfb_o.jpg      f  (25, 32)\n",
       "\n",
       "[18551 rows x 3 columns]"
      ]
     },
     "execution_count": 2,
     "metadata": {},
     "output_type": "execute_result"
    }
   ],
   "source": [
    "df=pd.read_csv('image_age_gender_classification.csv')\n",
    "df"
   ]
  },
  {
   "cell_type": "code",
   "execution_count": 3,
   "id": "131f9f46",
   "metadata": {
    "scrolled": true
   },
   "outputs": [
    {
     "name": "stdout",
     "output_type": "stream",
     "text": [
      "(25, 32)     4953\n",
      "(0, 2)       2488\n",
      "(38, 43)     2293\n",
      "(4, 6)       2140\n",
      "(8, 12)      2119\n",
      "(15, 20)     1642\n",
      "(60, 100)     867\n",
      "(48, 53)      825\n",
      "35            293\n",
      "13            168\n",
      "22            149\n",
      "34            105\n",
      "23             96\n",
      "45             88\n",
      "(27, 32)       77\n",
      "55             76\n",
      "36             56\n",
      "(38, 42)       46\n",
      "57             24\n",
      "3              18\n",
      "29             11\n",
      "(38, 48)        6\n",
      "58              5\n",
      "2               3\n",
      "(8, 23)         1\n",
      "42              1\n",
      "46              1\n",
      "Name: age, dtype: int64\n"
     ]
    }
   ],
   "source": [
    "print(df['age'].value_counts())"
   ]
  },
  {
   "cell_type": "code",
   "execution_count": 4,
   "id": "38233ddd",
   "metadata": {
    "scrolled": true
   },
   "outputs": [
    {
     "name": "stdout",
     "output_type": "stream",
     "text": [
      "                     original_image gender       age\n",
      "1      10424815813_e94629b1ec_o.jpg      m  (25, 32)\n",
      "3      10437979845_5985be4b26_o.jpg      m  (25, 32)\n",
      "4      11816644924_075c3d8d59_o.jpg      m  (25, 32)\n",
      "9      10190308156_5c748ab2da_o.jpg      m  (25, 32)\n",
      "10     11624488765_9db0b93c94_o.jpg      m  (25, 32)\n",
      "...                             ...    ...       ...\n",
      "18535  11523339855_06aeaa34c5_o.jpg      m  (38, 43)\n",
      "18536  11523339855_06aeaa34c5_o.jpg      m  (38, 43)\n",
      "18543  10760831476_f1bcd338bf_o.jpg      m        55\n",
      "18544  10587595486_5bbe5a3a1d_o.jpg      m  (25, 32)\n",
      "18547  10587571495_a61785cd06_o.jpg      m  (25, 32)\n",
      "\n",
      "[8120 rows x 3 columns]\n",
      "                     original_image gender       age\n",
      "0      10399646885_67c7d20df9_o.jpg      f  (25, 32)\n",
      "2      10437979845_5985be4b26_o.jpg      f  (25, 32)\n",
      "5      11562582716_dbc2eb8002_o.jpg      f  (25, 32)\n",
      "6      10424595844_1009c687e4_o.jpg      f  (38, 43)\n",
      "7       9506931745_796300ca4a_o.jpg      f  (25, 32)\n",
      "...                             ...    ...       ...\n",
      "18545  10587595486_5bbe5a3a1d_o.jpg      f  (25, 32)\n",
      "18546  10587826073_6663f5b654_o.jpg      f  (25, 32)\n",
      "18548  10587571495_a61785cd06_o.jpg      f  (25, 32)\n",
      "18549   9426695459_9e8b347604_o.jpg      f  (25, 32)\n",
      "18550   9429464468_1bfc39ecfb_o.jpg      f  (25, 32)\n",
      "\n",
      "[9332 rows x 3 columns]\n"
     ]
    }
   ],
   "source": [
    "df_male=df.loc[df['gender'] == 'm']\n",
    "df_female=df.loc[df['gender'] == 'f']\n",
    "print(df_male)\n",
    "print(df_female)"
   ]
  },
  {
   "cell_type": "code",
   "execution_count": 5,
   "id": "afed0058",
   "metadata": {
    "scrolled": true
   },
   "outputs": [
    {
     "name": "stdout",
     "output_type": "stream",
     "text": [
      "(25, 32)     2279\n",
      "(38, 43)     1241\n",
      "(8, 12)       929\n",
      "(4, 6)        909\n",
      "(15, 20)      733\n",
      "(0, 2)        716\n",
      "(60, 100)     446\n",
      "(48, 53)      404\n",
      "35            105\n",
      "45             66\n",
      "55             62\n",
      "36             52\n",
      "(38, 42)       46\n",
      "34             40\n",
      "23             35\n",
      "57             19\n",
      "3              16\n",
      "22              9\n",
      "(38, 48)        6\n",
      "13              3\n",
      "58              2\n",
      "(8, 23)         1\n",
      "42              1\n",
      "Name: age, dtype: int64\n"
     ]
    }
   ],
   "source": [
    "print(df_male['age'].value_counts())"
   ]
  },
  {
   "cell_type": "code",
   "execution_count": 6,
   "id": "6054e266",
   "metadata": {},
   "outputs": [],
   "source": [
    "df['age'] = df['age'].replace(['(0, 2)'],'1')\n",
    "df['age'] = df['age'].replace(['(4, 6)'],'5')\n",
    "df['age'] = df['age'].replace(['(8, 12)'],'10')\n",
    "df['age'] = df['age'].replace(['(8, 23)'],'15')\n",
    "df['age'] = df['age'].replace(['(15, 20)'],'17')\n",
    "df['age'] = df['age'].replace(['(25, 32)'],'30')\n",
    "df['age'] = df['age'].replace(['(27, 32)'],'29')\n",
    "df['age'] = df['age'].replace(['(38, 42)'],'40')\n",
    "df['age'] = df['age'].replace(['(38, 43)'],'41')\n",
    "df['age'] = df['age'].replace(['(38, 48)'],'44')\n",
    "df['age'] = df['age'].replace(['(48, 53)'],'51')\n",
    "df['age'] = df['age'].replace(['(48, 53)'],'51')\n",
    "df['age'] = df['age'].replace(['(60, 100)'],'80')"
   ]
  },
  {
   "cell_type": "code",
   "execution_count": 7,
   "id": "05081631",
   "metadata": {
    "scrolled": true
   },
   "outputs": [
    {
     "name": "stdout",
     "output_type": "stream",
     "text": [
      "(25, 32)     2672\n",
      "(4, 6)       1230\n",
      "(8, 12)      1188\n",
      "(38, 43)     1052\n",
      "(15, 20)      907\n",
      "(0, 2)        681\n",
      "(48, 53)      421\n",
      "(60, 100)     420\n",
      "35            188\n",
      "13            165\n",
      "22            140\n",
      "(27, 32)       77\n",
      "34             65\n",
      "23             61\n",
      "45             22\n",
      "55             14\n",
      "29             11\n",
      "57              5\n",
      "36              4\n",
      "2               3\n",
      "58              3\n",
      "3               2\n",
      "46              1\n",
      "Name: age, dtype: int64\n"
     ]
    }
   ],
   "source": [
    "print(df_female['age'].value_counts())"
   ]
  },
  {
   "cell_type": "code",
   "execution_count": 8,
   "id": "05d9c8f9",
   "metadata": {},
   "outputs": [],
   "source": [
    "destination_dir_male='./classified_age_gender_images/male_face'\n",
    "destination_dir_female='./classified_age_gender_images/female_face'\n",
    "destination_dir_male='./classified_age_gender_images'\n",
    "#os.mkdir(destination_dir_male)\n",
    "#os.mkdir(destination_dir_female)"
   ]
  },
  {
   "cell_type": "code",
   "execution_count": 9,
   "id": "6d0cedcd",
   "metadata": {},
   "outputs": [
    {
     "data": {
      "text/plain": [
       "'C:\\\\Users\\\\CHOCKALINGAM KASI\\\\OneDrive - Nanyang Technological University\\\\NTU\\\\Y3S1\\\\CE4042 Neural Network and Deep Learning\\\\CE4042_Project_Assignment2'"
      ]
     },
     "execution_count": 9,
     "metadata": {},
     "output_type": "execute_result"
    }
   ],
   "source": [
    "dir_path = os.getcwd()\n",
    "dir_path"
   ]
  },
  {
   "cell_type": "code",
   "execution_count": 16,
   "id": "11665272",
   "metadata": {},
   "outputs": [
    {
     "name": "stdout",
     "output_type": "stream",
     "text": [
      "C:\\Users\\CHOCKALINGAM KASI\\OneDrive - Nanyang Technological University\\NTU\\Y3S1\\CE4042 Neural Network and Deep Learning\\CE4042_Project_Assignment2\\classified_images\\male_face\n",
      "C:\\Users\\CHOCKALINGAM KASI\\OneDrive - Nanyang Technological University\\NTU\\Y3S1\\CE4042 Neural Network and Deep Learning\\CE4042_Project_Assignment2\\classified_images\\female_face\n"
     ]
    }
   ],
   "source": [
    "source_classified_image_male= dir_path+\"\\\\classified_images\\\\male_face\"\n",
    "source_classified_image_female= dir_path+\"\\\\classified_images\\\\female_face\"\n",
    "print(source_classified_image_male)\n",
    "print(source_classified_image_female)"
   ]
  },
  {
   "cell_type": "code",
   "execution_count": 11,
   "id": "a7e51122",
   "metadata": {},
   "outputs": [
    {
     "name": "stdout",
     "output_type": "stream",
     "text": [
      "C:\\Users\\CHOCKALINGAM KASI\\OneDrive - Nanyang Technological University\\NTU\\Y3S1\\CE4042 Neural Network and Deep Learning\\CE4042_Project_Assignment2\\classified_age_gender_images\\male_face\n",
      "C:\\Users\\CHOCKALINGAM KASI\\OneDrive - Nanyang Technological University\\NTU\\Y3S1\\CE4042 Neural Network and Deep Learning\\CE4042_Project_Assignment2\\classified_age_gender_images\\female_face\n"
     ]
    }
   ],
   "source": [
    "dest_classified_age_gender_images_male=dir_path+\"\\\\classified_age_gender_images\\\\male_face\"\n",
    "dest_classified_age_gender_images_female=dir_path+\"\\\\classified_age_gender_images\\\\female_face\"\n",
    "print(dest_classified_age_gender_images_male)\n",
    "print(dest_classified_age_gender_images_female)"
   ]
  },
  {
   "cell_type": "markdown",
   "id": "48450eb5",
   "metadata": {},
   "source": [
    "### Age wise classification"
   ]
  },
  {
   "cell_type": "code",
   "execution_count": 27,
   "id": "80e3f038",
   "metadata": {},
   "outputs": [],
   "source": [
    "dest_age_0_3='./classified_age_gender_images/age_0_3'\n",
    "dest_age_4_6='./classified_age_gender_images/age_4_6'\n",
    "dest_age_8_13='./classified_age_gender_images/age_8_13'\n",
    "dest_age_15_23='./classified_age_gender_images/age_15_23'\n",
    "dest_age_25_32='./classified_age_gender_images/age_25_32'\n",
    "dest_age_34_54='./classified_age_gender_images/age_34_54'\n",
    "dest_age_55_100='./classified_age_gender_images/age_55_100'\n",
    "\n",
    "\n",
    "os.mkdir(dest_age_0_3)\n",
    "os.mkdir(dest_age_4_6)\n",
    "os.mkdir(dest_age_8_13)\n",
    "os.mkdir(dest_age_15_23)\n",
    "os.mkdir(dest_age_25_32)\n",
    "os.mkdir(dest_age_34_54)\n",
    "os.mkdir(dest_age_55_100)"
   ]
  },
  {
   "cell_type": "code",
   "execution_count": 29,
   "id": "d668d105",
   "metadata": {},
   "outputs": [
    {
     "name": "stdout",
     "output_type": "stream",
     "text": [
      "6307\n"
     ]
    }
   ],
   "source": [
    "age_0_3=0\n",
    "age_4_6=0\n",
    "age_8_13=0\n",
    "age_15_23=0\n",
    "age_25_32=0\n",
    "age_34_54=0\n",
    "age_55_100=0\n",
    "\n",
    "\n",
    "count=0\n",
    "for filename in os.listdir(source_classified_image_male):\n",
    "    source_dir=source_classified_image_male+'\\\\'+ filename\n",
    "    flag=filename.split('.')[2]\n",
    "    temp=df.loc[df['original_image'] == flag+'.jpg']\n",
    "    age=int(temp['age'].values[0])\n",
    "    if(age>=0 and age<=3):\n",
    "        shutil.copy(source_dir,dest_age_0_3)\n",
    "    elif(age>=4 and age<=6):\n",
    "        shutil.copy(source_dir,dest_age_4_6)\n",
    "    elif(age>=8 and age<=13):\n",
    "        shutil.copy(source_dir,dest_age_8_13)\n",
    "    elif(age>=15 and age<=23):\n",
    "        shutil.copy(source_dir,dest_age_15_23)\n",
    "    elif(age>=25 and age<=32):\n",
    "        shutil.copy(source_dir,dest_age_25_32)\n",
    "    elif(age>=34 and age<=54):\n",
    "        shutil.copy(source_dir,dest_age_34_54)\n",
    "    elif(age>=55 and age<=100):\n",
    "        shutil.copy(source_dir,dest_age_55_100)\n",
    "    \n",
    "    count=count+1\n",
    "print(count)"
   ]
  },
  {
   "cell_type": "code",
   "execution_count": 31,
   "id": "6d310d36",
   "metadata": {},
   "outputs": [
    {
     "name": "stdout",
     "output_type": "stream",
     "text": [
      "6346\n"
     ]
    }
   ],
   "source": [
    "age_0_3=0\n",
    "age_4_6=0\n",
    "age_8_13=0\n",
    "age_15_23=0\n",
    "age_25_32=0\n",
    "age_34_54=0\n",
    "age_55_100=0\n",
    "\n",
    "\n",
    "count=0\n",
    "for filename in os.listdir(source_classified_image_female):\n",
    "    source_dir=source_classified_image_female+'\\\\'+ filename\n",
    "    flag=filename.split('.')[2]\n",
    "    temp=df.loc[df['original_image'] == flag+'.jpg']\n",
    "    age=int(temp['age'].values[0])\n",
    "    if(age>=0 and age<=3):\n",
    "        shutil.copy(source_dir,dest_age_0_3)\n",
    "    elif(age>=4 and age<=6):\n",
    "        shutil.copy(source_dir,dest_age_4_6)\n",
    "    elif(age>=8 and age<=13):\n",
    "        shutil.copy(source_dir,dest_age_8_13)\n",
    "    elif(age>=15 and age<=23):\n",
    "        shutil.copy(source_dir,dest_age_15_23)\n",
    "    elif(age>=25 and age<=32):\n",
    "        shutil.copy(source_dir,dest_age_25_32)\n",
    "    elif(age>=34 and age<=54):\n",
    "        shutil.copy(source_dir,dest_age_34_54)\n",
    "    elif(age>=55 and age<=100):\n",
    "        shutil.copy(source_dir,dest_age_55_100)\n",
    "    \n",
    "    count=count+1\n",
    "print(count)"
   ]
  },
  {
   "cell_type": "code",
   "execution_count": null,
   "id": "113b3d2d",
   "metadata": {},
   "outputs": [],
   "source": []
  },
  {
   "cell_type": "code",
   "execution_count": null,
   "id": "6e61b561",
   "metadata": {},
   "outputs": [],
   "source": []
  },
  {
   "cell_type": "code",
   "execution_count": null,
   "id": "9bf8a602",
   "metadata": {},
   "outputs": [],
   "source": []
  },
  {
   "cell_type": "code",
   "execution_count": null,
   "id": "7ba2253a",
   "metadata": {},
   "outputs": [],
   "source": []
  }
 ],
 "metadata": {
  "kernelspec": {
   "display_name": "Python 3 (ipykernel)",
   "language": "python",
   "name": "python3"
  },
  "language_info": {
   "codemirror_mode": {
    "name": "ipython",
    "version": 3
   },
   "file_extension": ".py",
   "mimetype": "text/x-python",
   "name": "python",
   "nbconvert_exporter": "python",
   "pygments_lexer": "ipython3",
   "version": "3.8.12"
  }
 },
 "nbformat": 4,
 "nbformat_minor": 5
}
